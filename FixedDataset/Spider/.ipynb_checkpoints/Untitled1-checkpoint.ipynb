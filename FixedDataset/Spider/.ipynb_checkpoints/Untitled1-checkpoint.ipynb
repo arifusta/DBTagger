{
 "cells": [
  {
   "cell_type": "code",
   "execution_count": 4,
   "metadata": {},
   "outputs": [],
   "source": [
    "import re\n",
    "\n",
    "def retrieve_data_and_tag(path):\n",
    "    file = open(path,'r')\n",
    "    sentences, sentence_tags = [], []\n",
    "    for line in file:\n",
    "        #line = re.sub(r\"\\\".*\\\"\",\"\\\"xxx\\\"\",line)\n",
    "        line = re.sub(r\"'\",\"\",line)\n",
    "        word_tag_list = line.split()\n",
    "        words = []\n",
    "        tags = []\n",
    "        for w in word_tag_list:\n",
    "            item = w.split('/')\n",
    "            words.append(item[0])\n",
    "            if(len(item) < 2):\n",
    "                print(line)\n",
    "                print(path,item)\n",
    "            tags.append(item[1])\n",
    "        sentences.append(words)\n",
    "        sentence_tags.append(tags)\n",
    "    return sentences, sentence_tags"
   ]
  },
  {
   "cell_type": "code",
   "execution_count": 9,
   "metadata": {},
   "outputs": [
    {
     "name": "stdout",
     "output_type": "stream",
     "text": [
      "imdb/questionsDbTag.txt ['_year']\n"
     ]
    },
    {
     "ename": "IndexError",
     "evalue": "list index out of range",
     "output_type": "error",
     "traceback": [
      "\u001b[0;31m---------------------------------------------------------------------------\u001b[0m",
      "\u001b[0;31mIndexError\u001b[0m                                Traceback (most recent call last)",
      "\u001b[0;32m<ipython-input-9-d9dfa0f5172a>\u001b[0m in \u001b[0;36m<module>\u001b[0;34m\u001b[0m\n\u001b[1;32m      2\u001b[0m \u001b[0;32mfor\u001b[0m \u001b[0mfolder\u001b[0m \u001b[0;32min\u001b[0m \u001b[0mfolder_list\u001b[0m\u001b[0;34m:\u001b[0m\u001b[0;34m\u001b[0m\u001b[0;34m\u001b[0m\u001b[0m\n\u001b[1;32m      3\u001b[0m     \u001b[0msentences\u001b[0m\u001b[0;34m,\u001b[0m \u001b[0msentence_type_tags\u001b[0m \u001b[0;34m=\u001b[0m \u001b[0mretrieve_data_and_tag\u001b[0m\u001b[0;34m(\u001b[0m\u001b[0mfolder\u001b[0m \u001b[0;34m+\u001b[0m \u001b[0;34m\"/questionsTypeTag.txt\"\u001b[0m\u001b[0;34m)\u001b[0m\u001b[0;34m\u001b[0m\u001b[0;34m\u001b[0m\u001b[0m\n\u001b[0;32m----> 4\u001b[0;31m     \u001b[0m_\u001b[0m\u001b[0;34m,\u001b[0m \u001b[0msentence_db_tags\u001b[0m \u001b[0;34m=\u001b[0m \u001b[0mretrieve_data_and_tag\u001b[0m\u001b[0;34m(\u001b[0m\u001b[0mfolder\u001b[0m \u001b[0;34m+\u001b[0m \u001b[0;34m\"/questionsDbTag.txt\"\u001b[0m\u001b[0;34m)\u001b[0m\u001b[0;34m\u001b[0m\u001b[0;34m\u001b[0m\u001b[0m\n\u001b[0m\u001b[1;32m      5\u001b[0m     \u001b[0;32mfor\u001b[0m \u001b[0mi\u001b[0m \u001b[0;32min\u001b[0m \u001b[0mrange\u001b[0m\u001b[0;34m(\u001b[0m\u001b[0mlen\u001b[0m\u001b[0;34m(\u001b[0m\u001b[0msentence_type_tags\u001b[0m\u001b[0;34m)\u001b[0m\u001b[0;34m)\u001b[0m\u001b[0;34m:\u001b[0m\u001b[0;34m\u001b[0m\u001b[0;34m\u001b[0m\u001b[0m\n\u001b[1;32m      6\u001b[0m         \u001b[0;32mfor\u001b[0m \u001b[0mj\u001b[0m \u001b[0;32min\u001b[0m \u001b[0mrange\u001b[0m\u001b[0;34m(\u001b[0m\u001b[0mlen\u001b[0m\u001b[0;34m(\u001b[0m\u001b[0msentence_type_tags\u001b[0m\u001b[0;34m[\u001b[0m\u001b[0mi\u001b[0m\u001b[0;34m]\u001b[0m\u001b[0;34m)\u001b[0m\u001b[0;34m)\u001b[0m\u001b[0;34m:\u001b[0m\u001b[0;34m\u001b[0m\u001b[0;34m\u001b[0m\u001b[0m\n",
      "\u001b[0;32m<ipython-input-4-268e4dd014e0>\u001b[0m in \u001b[0;36mretrieve_data_and_tag\u001b[0;34m(path)\u001b[0m\n\u001b[1;32m     15\u001b[0m             \u001b[0;32mif\u001b[0m\u001b[0;34m(\u001b[0m\u001b[0mlen\u001b[0m\u001b[0;34m(\u001b[0m\u001b[0mitem\u001b[0m\u001b[0;34m)\u001b[0m \u001b[0;34m<\u001b[0m \u001b[0;36m2\u001b[0m\u001b[0;34m)\u001b[0m\u001b[0;34m:\u001b[0m\u001b[0;34m\u001b[0m\u001b[0;34m\u001b[0m\u001b[0m\n\u001b[1;32m     16\u001b[0m                 \u001b[0mprint\u001b[0m\u001b[0;34m(\u001b[0m\u001b[0mpath\u001b[0m\u001b[0;34m,\u001b[0m\u001b[0mitem\u001b[0m\u001b[0;34m)\u001b[0m\u001b[0;34m\u001b[0m\u001b[0;34m\u001b[0m\u001b[0m\n\u001b[0;32m---> 17\u001b[0;31m             \u001b[0mtags\u001b[0m\u001b[0;34m.\u001b[0m\u001b[0mappend\u001b[0m\u001b[0;34m(\u001b[0m\u001b[0mitem\u001b[0m\u001b[0;34m[\u001b[0m\u001b[0;36m1\u001b[0m\u001b[0;34m]\u001b[0m\u001b[0;34m)\u001b[0m\u001b[0;34m\u001b[0m\u001b[0;34m\u001b[0m\u001b[0m\n\u001b[0m\u001b[1;32m     18\u001b[0m         \u001b[0msentences\u001b[0m\u001b[0;34m.\u001b[0m\u001b[0mappend\u001b[0m\u001b[0;34m(\u001b[0m\u001b[0mwords\u001b[0m\u001b[0;34m)\u001b[0m\u001b[0;34m\u001b[0m\u001b[0;34m\u001b[0m\u001b[0m\n\u001b[1;32m     19\u001b[0m         \u001b[0msentence_tags\u001b[0m\u001b[0;34m.\u001b[0m\u001b[0mappend\u001b[0m\u001b[0;34m(\u001b[0m\u001b[0mtags\u001b[0m\u001b[0;34m)\u001b[0m\u001b[0;34m\u001b[0m\u001b[0;34m\u001b[0m\u001b[0m\n",
      "\u001b[0;31mIndexError\u001b[0m: list index out of range"
     ]
    }
   ],
   "source": [
    "folder_list = [\"academic\", \"college_1\", \"hr_1\", \"imdb\", \"restaurants\", \"yelp\"]\n",
    "for folder in folder_list:\n",
    "    sentences, sentence_type_tags = retrieve_data_and_tag(folder + \"/questionsTypeTag.txt\")\n",
    "    _, sentence_db_tags = retrieve_data_and_tag(folder + \"/questionsDbTag.txt\")\n",
    "    for i in range(len(sentence_type_tags)):\n",
    "        for j in range(len(sentence_type_tags[i])):\n",
    "            if sentence_type_tags[i][j] not in [\"TABLE\", \"TABLEREF\", \"ATTR\", \"ATTRREF\", \"VALUE\", \"COND\"]:\n",
    "                sentence_type_tags[i][j] = \"O\"\n",
    "                sentence_db_tags[i][j] = \"O\"\n",
    "    \n",
    "    with open(folder + \"/questionsTypeTag2.txt\", \"w\") as f1, open(folder + \"/questionsDbTag2.txt\", \"w\") as f2:\n",
    "        for i in range(len(sentences)):\n",
    "            line1 = \"\"\n",
    "            line2 = \"\"\n",
    "            for j in range(len(sentences[i])):\n",
    "                line1 = line1 + sentences[i][j] + \"/\" + sentence_type_tags[i][j] + \"/ \"\n",
    "                line2 = line2 + sentences[i][j] + \"/\" + sentence_db_tags[i][j] + \"/ \"\n",
    "            line1 = line1 + \"\\n\"\n",
    "            line2 = line2 + \"\\n\"\n",
    "            f1.write(line1)\n",
    "            f2.write(line2)"
   ]
  },
  {
   "cell_type": "code",
   "execution_count": null,
   "metadata": {},
   "outputs": [],
   "source": []
  }
 ],
 "metadata": {
  "kernelspec": {
   "display_name": "Python (deeplearning)",
   "language": "python",
   "name": "deeplearning"
  },
  "language_info": {
   "codemirror_mode": {
    "name": "ipython",
    "version": 3
   },
   "file_extension": ".py",
   "mimetype": "text/x-python",
   "name": "python",
   "nbconvert_exporter": "python",
   "pygments_lexer": "ipython3",
   "version": "3.6.8"
  }
 },
 "nbformat": 4,
 "nbformat_minor": 2
}
